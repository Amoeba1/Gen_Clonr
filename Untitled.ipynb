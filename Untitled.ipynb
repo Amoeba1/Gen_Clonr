{
 "cells": [
  {
   "cell_type": "markdown",
   "metadata": {},
   "source": [
    "# Gen_Clonr\n",
    "### For Cloning Genes using Molecular Biology\n",
    "### Last Updated: 05/21/2024\n",
    "### Author: Frank Escalante"
   ]
  },
  {
   "cell_type": "code",
   "execution_count": 2,
   "metadata": {},
   "outputs": [],
   "source": [
    "supported_methods = [\"Restriction Cloning\", \"Golden Gate Cloning\", \"SLIC\", \"GateWay Cloning\", \"CRISPR\", \"Gibson\"],"
   ]
  }
 ],
 "metadata": {
  "kernelspec": {
   "display_name": "Python 3",
   "language": "python",
   "name": "python3"
  },
  "language_info": {
   "codemirror_mode": {
    "name": "ipython",
    "version": 3
   },
   "file_extension": ".py",
   "mimetype": "text/x-python",
   "name": "python",
   "nbconvert_exporter": "python",
   "pygments_lexer": "ipython3",
   "version": "3.7.1"
  }
 },
 "nbformat": 4,
 "nbformat_minor": 2
}
